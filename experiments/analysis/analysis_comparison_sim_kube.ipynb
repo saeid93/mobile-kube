{
 "cells": [
  {
   "cell_type": "markdown",
   "metadata": {},
   "source": [
    "# Load the tests to compare"
   ]
  },
  {
   "cell_type": "code",
   "execution_count": 9,
   "metadata": {},
   "outputs": [
    {
     "name": "stdout",
     "output_type": "stream",
     "text": [
      "availeble tests:\n",
      " [0, 1]\n",
      "tests_types:\n",
      " ['PG', 'PG']\n"
     ]
    }
   ],
   "source": [
    "%matplotlib inline\n",
    "import os\n",
    "import sys\n",
    "import json\n",
    "import pickle\n",
    "import pandas as pd\n",
    "import matplotlib.pyplot as plt\n",
    "\n",
    "__file__ = globals()['_dh'][0]\n",
    "\n",
    "# get an absolute path to the directory that contains parent files\n",
    "project_dir = __file__ = globals()['_dh'][0]\n",
    "sys.path.append(os.path.normpath(os.path.join(project_dir, '..', '..')))\n",
    "\n",
    "from experiments.utils.constants import TESTS_RESULTS_PATH\n",
    "series = 74\n",
    "start_test = 0\n",
    "end_test = 2\n",
    "tests_ids = [i for i in range(start_test, end_test)]\n",
    "tests_names = [i for i in range(start_test, end_test)]\n",
    "\n",
    "tests = {}\n",
    "\n",
    "\n",
    "for test_id, test_name in zip(tests_ids, tests_names):\n",
    "    test_path = os.path.join(\n",
    "        TESTS_RESULTS_PATH,\n",
    "        'series',\n",
    "        str(series),\n",
    "        'tests',\n",
    "        str(test_id))\n",
    "    with open(os.path.join(test_path, 'info.json')) as cf:\n",
    "        info = json.loads(cf.read())\n",
    "    with open(os.path.join(test_path, 'episodes.pickle'), 'rb') as input_file:\n",
    "        episodes = pickle.load(input_file)\n",
    "    tests.update({test_name: {\n",
    "        'info': info,\n",
    "        'episodes': episodes\n",
    "    }})\n",
    "test_types = [test['info']['algorithm'] for _, test in tests.items()]\n",
    "print(\"availeble tests:\\n {}\\ntests_types:\\n {}\".format(\n",
    "    list(tests.keys()),\n",
    "    test_types))"
   ]
  },
  {
   "cell_type": "markdown",
   "metadata": {},
   "source": [
    "# Necessary stats of a test"
   ]
  },
  {
   "cell_type": "code",
   "execution_count": 14,
   "metadata": {},
   "outputs": [],
   "source": [
    "final_stats = []\n",
    "for test_id in range(start_test, end_test):\n",
    "    users_distances_episodes_average = [episode['users_distances'].mean() for episode in tests[test_id]['episodes']]\n",
    "    users_distances_test_average = sum(users_distances_episodes_average) / len(users_distances_episodes_average)\n",
    "    num_consolidated_episodes_average = [episode['num_consolidated'].mean() for episode in tests[test_id]['episodes']]\n",
    "    num_consolidated_test_average = sum(num_consolidated_episodes_average) / len(num_consolidated_episodes_average)\n",
    "    action = tests[test_id]['episodes'][0]['action']\n",
    "    num_moves = tests[test_id]['episodes'][0]['num_moves']\n",
    "    # print(users_distances_episodes_average)\n",
    "    # print(users_distances_test_average)\n",
    "    # print(num_consolidated_episodes_average)\n",
    "    # print(num_consolidated_test_average)\n",
    "    final_stats.append({\n",
    "        'action'\n",
    "        'test_id': test_id,\n",
    "        # 'checkpoint': tests[test_id]['info']['checkpoint'],\n",
    "        'network_id': tests[test_id]['info']['network_id'],\n",
    "        'trace_id_test': tests[test_id]['info']['trace_id_test'],\n",
    "        'action': action,\n",
    "        'num_moves': num_moves,\n",
    "        'sample_episode_users_distances': tests[test_id]['episodes'][0]['users_distances'],\n",
    "        'sample_episode_num_consolidated': tests[test_id]['episodes'][0]['num_consolidated'],\n",
    "        # 'experiments': tests[test_id]['info']['experiments'],\n",
    "        'penalty_latency': tests[test_id]['info']['penalty_latency'],\n",
    "        'penalalty_consolidated': tests[test_id]['info']['penalty_consolidated'],\n",
    "        'users_distances_test_average': users_distances_test_average,\n",
    "        'num_consolidated_test_average': num_consolidated_test_average\n",
    "    })\n",
    "\n",
    "final_stats_df = pd.DataFrame(final_stats)\n",
    "final_stats_df['test_types'] = test_types\n",
    "# final_stats_df.loc[df['penalalty_consolidated']]\n",
    "\n",
    "# TODO add the following information to the table (from the info.json file)\n",
    "# - penatly_latency\n",
    "# - penalty_conslidation"
   ]
  },
  {
   "cell_type": "code",
   "execution_count": 28,
   "metadata": {},
   "outputs": [
    {
     "data": {
      "text/plain": [
       "True"
      ]
     },
     "execution_count": 28,
     "metadata": {},
     "output_type": "execute_result"
    }
   ],
   "source": [
    "final_stats_df.loc[0]['action'].equals(final_stats_df.loc[1]['action'])"
   ]
  },
  {
   "cell_type": "code",
   "execution_count": 29,
   "metadata": {},
   "outputs": [
    {
     "data": {
      "text/plain": [
       "True"
      ]
     },
     "execution_count": 29,
     "metadata": {},
     "output_type": "execute_result"
    }
   ],
   "source": [
    "final_stats_df.loc[0]['num_moves'].equals(final_stats_df.loc[1]['num_moves'])"
   ]
  },
  {
   "cell_type": "code",
   "execution_count": null,
   "metadata": {},
   "outputs": [],
   "source": []
  }
 ],
 "metadata": {
  "interpreter": {
   "hash": "0e2adeafa4d8ea8b56364dfeb24ca99374007784e59d4b40ac8f07b769210312"
  },
  "kernelspec": {
   "display_name": "Python 3.8.0 64-bit ('central': conda)",
   "language": "python",
   "name": "python3"
  },
  "language_info": {
   "codemirror_mode": {
    "name": "ipython",
    "version": 3
   },
   "file_extension": ".py",
   "mimetype": "text/x-python",
   "name": "python",
   "nbconvert_exporter": "python",
   "pygments_lexer": "ipython3",
   "version": "3.9.7"
  },
  "orig_nbformat": 4
 },
 "nbformat": 4,
 "nbformat_minor": 2
}
