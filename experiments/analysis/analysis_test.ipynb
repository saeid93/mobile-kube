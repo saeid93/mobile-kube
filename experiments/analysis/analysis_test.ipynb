{
 "cells": [
  {
   "cell_type": "markdown",
   "metadata": {},
   "source": [
    "# Load the tests to compare"
   ]
  },
  {
   "cell_type": "code",
   "execution_count": 41,
   "metadata": {},
   "outputs": [
    {
     "name": "stdout",
     "output_type": "stream",
     "text": [
      "availeble tests:\n",
      " ['test_1', 'test_2', 'test_3', 'test_4']\n",
      "tests_types:\n",
      " ['PPO', 'PPO', 'binpacking', 'latency_greedy']\n"
     ]
    }
   ],
   "source": [
    "import os\n",
    "import sys\n",
    "import json\n",
    "import pickle\n",
    "import pandas as pd\n",
    "__file__ = globals()['_dh'][0]\n",
    "\n",
    "# get an absolute path to the directory that contains parent files\n",
    "project_dir = __file__ = globals()['_dh'][0]\n",
    "sys.path.append(os.path.normpath(os.path.join(project_dir, '..', '..')))\n",
    "\n",
    "from experiments.utils.constants import TESTS_RESULTS_PATH\n",
    "series = 1\n",
    "tests_ids = [0, 1, 2, 3]\n",
    "tests_names = ['test_1', 'test_2', 'test_3', 'test_4']\n",
    "\n",
    "tests = {}\n",
    "\n",
    "for test_id, test_name in zip(tests_ids, tests_names):\n",
    "    test_path = os.path.join(\n",
    "        TESTS_RESULTS_PATH,\n",
    "        'series',\n",
    "        str(series),\n",
    "        'tests',\n",
    "        str(test_id))\n",
    "    with open(os.path.join(test_path, 'info.json')) as cf:\n",
    "        info = json.loads(cf.read())\n",
    "    with open(os.path.join(test_path, 'episodes.pickle'), 'rb') as input_file:\n",
    "        episodes = pickle.load(input_file)\n",
    "    tests.update({test_name: {\n",
    "        'info': info,\n",
    "        'episodes': episodes\n",
    "    }})\n",
    "print(\"availeble tests:\\n {}\\ntests_types:\\n {}\".format(\n",
    "    list(tests.keys()),\n",
    "    [test['info']['algorithm'] for _, test in tests.items()]))"
   ]
  },
  {
   "cell_type": "markdown",
   "metadata": {},
   "source": [
    "# Analyze a test (rl)"
   ]
  },
  {
   "cell_type": "code",
   "execution_count": 36,
   "metadata": {},
   "outputs": [],
   "source": [
    "test_name = 'test_1'\n",
    "# TODO"
   ]
  },
  {
   "cell_type": "markdown",
   "metadata": {},
   "source": [
    "# Analyze a test (baseline - binpacking)"
   ]
  },
  {
   "cell_type": "code",
   "execution_count": 37,
   "metadata": {},
   "outputs": [],
   "source": [
    "test_name = 'test_2'\n",
    "# TODO"
   ]
  },
  {
   "cell_type": "markdown",
   "metadata": {},
   "source": [
    "# Analyze a test (baseline - latency greedy)"
   ]
  },
  {
   "cell_type": "code",
   "execution_count": 38,
   "metadata": {},
   "outputs": [],
   "source": [
    "test_name = 'test_3'\n",
    "# TODO"
   ]
  },
  {
   "cell_type": "markdown",
   "metadata": {},
   "source": [
    "# compare tests - tables"
   ]
  },
  {
   "cell_type": "code",
   "execution_count": 2,
   "metadata": {},
   "outputs": [],
   "source": [
    "# TODO plot testing tables"
   ]
  },
  {
   "cell_type": "markdown",
   "metadata": {},
   "source": [
    "# compare tests - plots"
   ]
  },
  {
   "cell_type": "code",
   "execution_count": null,
   "metadata": {},
   "outputs": [],
   "source": [
    "# TODO plot testing tables"
   ]
  },
  {
   "cell_type": "markdown",
   "metadata": {},
   "source": []
  }
 ],
 "metadata": {
  "interpreter": {
   "hash": "0e2adeafa4d8ea8b56364dfeb24ca99374007784e59d4b40ac8f07b769210312"
  },
  "kernelspec": {
   "display_name": "Python 3.8.0 64-bit ('central': conda)",
   "language": "python",
   "name": "python3"
  },
  "language_info": {
   "codemirror_mode": {
    "name": "ipython",
    "version": 3
   },
   "file_extension": ".py",
   "mimetype": "text/x-python",
   "name": "python",
   "nbconvert_exporter": "python",
   "pygments_lexer": "ipython3",
   "version": "3.8.0"
  },
  "orig_nbformat": 4
 },
 "nbformat": 4,
 "nbformat_minor": 2
}
