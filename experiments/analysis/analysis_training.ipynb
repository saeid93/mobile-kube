{
 "cells": [
  {
   "cell_type": "code",
   "execution_count": null,
   "metadata": {},
   "outputs": [],
   "source": [
    "import os\n",
    "import sys\n",
    "from ray.tune import Analysis\n",
    "\n",
    "import ray\n",
    "from ray import tune\n",
    "from ray.rllib.utils.framework import try_import_torch\n",
    "import pprint\n",
    "\n",
    "# get an absolute path to the directory that contains parent files\n",
    "project_dir = os.path.dirname(os.path.join(os.getcwd(), __file__))\n",
    "sys.path.append(os.path.normpath(os.path.join(project_dir, '..', '..')))\n",
    "\n",
    "from experiments.utils.constants import RESULTS_PATH"
   ]
  },
  {
   "cell_type": "code",
   "execution_count": null,
   "metadata": {},
   "outputs": [],
   "source": [
    "series = 6\n",
    "type_env = 2\n",
    "dataset_id = 0\n",
    "workload_id = 0\n",
    "experiment_id = 0\n",
    "algorithm = 'PPO'\n",
    "trial = 'PPO_CloudSimV2_847c5_00000_0_fcnet_hiddens_0=20,fcnet_hiddens_1=20_2021-02-14_22-46-46'"
   ]
  },
  {
   "cell_type": "code",
   "execution_count": null,
   "metadata": {},
   "outputs": [],
   "source": [
    "experiment_folder_path = os.path.join(\n",
    "    RESULTS_PATH,\n",
    "    \"series\",      str(series),\n",
    "    \"envs\",        str(type_env),\n",
    "    \"datasets\",    str(dataset_id),\n",
    "    \"workloads\",   str(workload_id),\n",
    "    \"experiments\", str(experiment_id),\n",
    "    str(algorithm), trial)"
   ]
  },
  {
   "cell_type": "code",
   "execution_count": null,
   "metadata": {},
   "outputs": [],
   "source": [
    "analysis = Analysis(experiment_folder_path)\n",
    "df = analysis.trial_dataframes[experiment_folder_path]\n",
    "selected_stats = ['episode_reward_mean', 'episodes_this_iter',\n",
    "                  'timesteps_total', 'episodes_total',\n",
    "                  'experiment_id',\n",
    "                  'custom_metrics/num_moves_mean',\n",
    "                  'custom_metrics/num_consolidated_mean',\n",
    "                  'custom_metrics/num_overloaded_mean']\n",
    "df = df[selected_stats]\n",
    "# each row of the df is the training iteration\n",
    "a = 1\n"
   ]
  }
 ],
 "metadata": {
  "language_info": {
   "name": "python"
  },
  "orig_nbformat": 4
 },
 "nbformat": 4,
 "nbformat_minor": 2
}
